{
 "cells": [
  {
   "cell_type": "markdown",
   "metadata": {},
   "source": [
    "## Objective: Determine whatever the assignment says and do that"
   ]
  },
  {
   "cell_type": "markdown",
   "metadata": {},
   "source": [
    "#### Data Analysis"
   ]
  },
  {
   "cell_type": "code",
   "execution_count": 277,
   "metadata": {
    "collapsed": false
   },
   "outputs": [],
   "source": [
    "import pandas\n",
    "import numpy\n",
    "import csv\n",
    "from sklearn.cross_validation import train_test_split\n",
    "from sklearn.cluster import KMeans\n",
    "from pprint import pprint\n",
    "from itertools import combinations\n",
    "\n",
    "MY_TITANIC_TRAIN ='./sample_data/train.csv'\n",
    "MY_TITANIC_TEST = './sample_data/test.csv'\n",
    "df = pandas.read_csv(MY_TITANIC_TRAIN)\n",
    "tdf = pandas.read_csv(MY_TITANIC_TEST)"
   ]
  },
  {
   "cell_type": "code",
   "execution_count": 278,
   "metadata": {
    "collapsed": false
   },
   "outputs": [
    {
     "name": "stdout",
     "output_type": "stream",
     "text": [
      "\n",
      "342\n"
     ]
    }
   ],
   "source": [
    "survivors = sum(df.Survived)\n",
    "print()\n",
    "print(survivors)"
   ]
  },
  {
   "cell_type": "markdown",
   "metadata": {},
   "source": [
    "#### Selection of Features"
   ]
  },
  {
   "cell_type": "code",
   "execution_count": 279,
   "metadata": {
    "collapsed": false
   },
   "outputs": [],
   "source": [
    "df['Gender'] = df['Sex'].map({'female': 0, 'male': 1}).astype(int)\n",
    "df.drop(['Name', 'Ticket', 'Cabin', 'Embarked', 'Sex'], axis=1, inplace=True)\n",
    "df['Age'].fillna(df['Age'].mean(), inplace=True)\n",
    "tdf['Gender'] = tdf['Sex'].map({'female': 0, 'male': 1}).astype(int)\n",
    "tdf.drop(['Name', 'Ticket', 'Cabin', 'Embarked', 'Sex'], axis=1, inplace=True)\n",
    "tdf['Age'].fillna(tdf['Age'].mean(), inplace=True)\n",
    "tdf['Fare'].fillna(method='ffill', inplace=True)"
   ]
  },
  {
   "cell_type": "code",
   "execution_count": 280,
   "metadata": {
    "collapsed": false
   },
   "outputs": [],
   "source": [
    "# dd = df[['Pclass', 'Parch']]"
   ]
  },
  {
   "cell_type": "markdown",
   "metadata": {},
   "source": [
    "#### Representation"
   ]
  },
  {
   "cell_type": "code",
   "execution_count": 281,
   "metadata": {
    "collapsed": false
   },
   "outputs": [],
   "source": [
    "k = 2\n",
    "# train, test = train_test_split(df, test_size = 0.2)\n",
    "# train_dd, test_dd = train_test_split(dd, test_size = 0.2)\n",
    "# y = train['Survived']\n",
    "# X = train[2:]\n",
    "# kmeans = KMeans(n_clusters=k)"
   ]
  },
  {
   "cell_type": "markdown",
   "metadata": {},
   "source": [
    "#### Experiment"
   ]
  },
  {
   "cell_type": "code",
   "execution_count": 282,
   "metadata": {
    "collapsed": false
   },
   "outputs": [
    {
     "name": "stdout",
     "output_type": "stream",
     "text": [
      "Survived  394\n",
      "Age  394\n",
      "Pclass  318\n",
      "SibSp  318\n",
      "Parch  394\n",
      "Fare  394\n"
     ]
    }
   ],
   "source": [
    "x = train['Survived']\n",
    "results = kmeans.fit_predict(X.values)\n",
    "print('Survived ', numpy.count_nonzero(results))\n",
    "x = train['Age']\n",
    "results = kmeans.fit_predict(X.values)\n",
    "print('Age ', numpy.count_nonzero(results))\n",
    "x = train['Pclass']\n",
    "results = kmeans.fit_predict(X.values)\n",
    "print('Pclass ', numpy.count_nonzero(results))\n",
    "x = train['SibSp']\n",
    "results = kmeans.fit_predict(X.values)\n",
    "print('SibSp ', numpy.count_nonzero(results))\n",
    "x = train['Parch']\n",
    "results = kmeans.fit_predict(X.values)\n",
    "print('Parch ', numpy.count_nonzero(results))\n",
    "x = train['Fare']\n",
    "results = kmeans.fit_predict(X.values)\n",
    "print('Fare ', numpy.count_nonzero(results))"
   ]
  },
  {
   "cell_type": "code",
   "execution_count": 283,
   "metadata": {
    "collapsed": false
   },
   "outputs": [
    {
     "name": "stdout",
     "output_type": "stream",
     "text": [
      "318\n"
     ]
    }
   ],
   "source": [
    "X = train_dd\n",
    "results = kmeans.fit_predict(X.values)\n",
    "print(numpy.count_nonzero(results))"
   ]
  },
  {
   "cell_type": "code",
   "execution_count": 284,
   "metadata": {
    "collapsed": false,
    "scrolled": true
   },
   "outputs": [
    {
     "name": "stdout",
     "output_type": "stream",
     "text": [
      "['PassengerId', 'Pclass', 'Age', 'SibSp', 'Parch', 'Fare', 'Gender']\n",
      "('Pclass', 'Age') 177\n",
      "('Pclass', 'SibSp') 35\n",
      "('Pclass', 'Parch') 387\n",
      "('Pclass', 'Fare') 43\n",
      "('Pclass', 'Gender') 323\n",
      "('Age', 'SibSp') 188\n",
      "('Age', 'Parch') 157\n",
      "('Age', 'Fare') 32\n",
      "('Age', 'Gender') 532\n",
      "('SibSp', 'Parch') 71\n",
      "('SibSp', 'Fare') 42\n",
      "('SibSp', 'Gender') 33\n",
      "('Parch', 'Fare') 42\n",
      "('Parch', 'Gender') 171\n",
      "('Fare', 'Gender') 37\n",
      "****************\n",
      "('Pclass', 'Age') 78\n",
      "('Pclass', 'SibSp') 113\n",
      "('Pclass', 'Parch') 154\n",
      "('Pclass', 'Fare') 318\n",
      "('Pclass', 'Gender') 164\n",
      "('Age', 'SibSp') 76\n",
      "('Age', 'Parch') 76\n",
      "('Age', 'Fare') 26\n",
      "('Age', 'Gender') 84\n",
      "('SibSp', 'Parch') 15\n",
      "('SibSp', 'Fare') 22\n",
      "('SibSp', 'Gender') 101\n",
      "('Parch', 'Fare') 24\n",
      "('Parch', 'Gender') 34\n",
      "('Fare', 'Gender') 22\n"
     ]
    }
   ],
   "source": [
    "columns = [x for x in df]\n",
    "more_columns = [x for x in tdf]\n",
    "print(more_columns)\n",
    "more_columns.remove('PassengerId')\n",
    "columns.remove('PassengerId')\n",
    "columns.remove('Survived')\n",
    "combos = combinations(columns, 2)\n",
    "more_combos = combinations(more_columns, 2)\n",
    "\n",
    "def process_combos(combos, table):\n",
    "    for combo in combos:\n",
    "        dd = table[[combo[0], combo[1]]]\n",
    "        train, test = train_test_split(df, test_size = 0.2)\n",
    "        train_dd, test_dd = train_test_split(dd, test_size = 0.2)\n",
    "        y = train['Survived']\n",
    "        X = train_dd\n",
    "        kmeans = KMeans(n_clusters=k)\n",
    "        results = kmeans.fit_predict(X.values)\n",
    "        print(combo, numpy.count_nonzero(results))\n",
    "\n",
    "process_combos(combos, df)\n",
    "print('****************')\n",
    "process_combos(more_combos, tdf)"
   ]
  },
  {
   "cell_type": "code",
   "execution_count": 285,
   "metadata": {
    "collapsed": false
   },
   "outputs": [
    {
     "name": "stdout",
     "output_type": "stream",
     "text": [
      "272\n",
      "440\n",
      "418\n"
     ]
    }
   ],
   "source": [
    "print(sum(train['Survived']))\n",
    "print(len(train['Survived']) - sum(train['Survived']))\n",
    "print(len(tdf))"
   ]
  },
  {
   "cell_type": "code",
   "execution_count": 286,
   "metadata": {
    "collapsed": false
   },
   "outputs": [],
   "source": [
    "\n",
    "final = tdf[['Gender', 'Pclass']]\n",
    "test_results = kmeans.fit_predict(X.values)\n",
    "train, test = train_test_split(df, test_size = 0.2)\n",
    "train_dd, test_dd = train_test_split(dd, test_size = 0.2)\n",
    "y = train['Survived']\n",
    "X = train_dd\n",
    "kmeans = KMeans(n_clusters=k)\n",
    "final_results = kmeans.fit_predict(X.values)"
   ]
  },
  {
   "cell_type": "code",
   "execution_count": 287,
   "metadata": {
    "collapsed": false
   },
   "outputs": [],
   "source": [
    "predictions = open('predictions_kmeans.csv', 'w')\n",
    "file = csv.writer(predictions)\n",
    "file.writerow([\"PassengerId\",\"Survived\"])\n",
    "for row, id in zip(tdf.iterrows(), final_results):\n",
    "    output = tdf['PassengerId'], id\n",
    "    file.writerow(output)\n",
    "predictions.close()"
   ]
  },
  {
   "cell_type": "code",
   "execution_count": null,
   "metadata": {
    "collapsed": true
   },
   "outputs": [],
   "source": []
  }
 ],
 "metadata": {
  "kernelspec": {
   "display_name": "Python 3",
   "language": "python",
   "name": "python3"
  },
  "language_info": {
   "codemirror_mode": {
    "name": "ipython",
    "version": 3
   },
   "file_extension": ".py",
   "mimetype": "text/x-python",
   "name": "python",
   "nbconvert_exporter": "python",
   "pygments_lexer": "ipython3",
   "version": "3.5.1"
  }
 },
 "nbformat": 4,
 "nbformat_minor": 0
}
