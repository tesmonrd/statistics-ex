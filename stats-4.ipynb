{
 "cells": [
  {
   "cell_type": "markdown",
   "metadata": {},
   "source": [
    "## Univariate and Multivariate Modeling and best fit - BASEBALL"
   ]
  },
  {
   "cell_type": "markdown",
   "metadata": {},
   "source": [
    "## Create univariate linear regression to predict player salary"
   ]
  },
  {
   "cell_type": "markdown",
   "metadata": {},
   "source": [
    "### Load and turn data into numpy arrays"
   ]
  },
  {
   "cell_type": "code",
   "execution_count": 7,
   "metadata": {
    "collapsed": false
   },
   "outputs": [
    {
     "data": {
      "text/html": [
       "<div>\n",
       "<table border=\"1\" class=\"dataframe\">\n",
       "  <thead>\n",
       "    <tr style=\"text-align: right;\">\n",
       "      <th></th>\n",
       "      <th>playerID</th>\n",
       "      <th>yearID</th>\n",
       "      <th>teamID</th>\n",
       "      <th>lgID</th>\n",
       "      <th>round</th>\n",
       "      <th>POS</th>\n",
       "      <th>G</th>\n",
       "      <th>GS</th>\n",
       "      <th>InnOuts</th>\n",
       "      <th>PO</th>\n",
       "      <th>A</th>\n",
       "      <th>E</th>\n",
       "      <th>DP</th>\n",
       "      <th>TP</th>\n",
       "      <th>PB</th>\n",
       "      <th>SB</th>\n",
       "      <th>CS</th>\n",
       "    </tr>\n",
       "  </thead>\n",
       "  <tbody>\n",
       "    <tr>\n",
       "      <th>0</th>\n",
       "      <td>colliji01</td>\n",
       "      <td>1903</td>\n",
       "      <td>BOS</td>\n",
       "      <td>AL</td>\n",
       "      <td>WS</td>\n",
       "      <td>3B</td>\n",
       "      <td>8</td>\n",
       "      <td>8</td>\n",
       "      <td>213.0</td>\n",
       "      <td>9</td>\n",
       "      <td>18</td>\n",
       "      <td>1</td>\n",
       "      <td>1</td>\n",
       "      <td>0</td>\n",
       "      <td>NaN</td>\n",
       "      <td>NaN</td>\n",
       "      <td>NaN</td>\n",
       "    </tr>\n",
       "    <tr>\n",
       "      <th>1</th>\n",
       "      <td>crigelo01</td>\n",
       "      <td>1903</td>\n",
       "      <td>BOS</td>\n",
       "      <td>AL</td>\n",
       "      <td>WS</td>\n",
       "      <td>C</td>\n",
       "      <td>8</td>\n",
       "      <td>8</td>\n",
       "      <td>213.0</td>\n",
       "      <td>54</td>\n",
       "      <td>7</td>\n",
       "      <td>3</td>\n",
       "      <td>2</td>\n",
       "      <td>0</td>\n",
       "      <td>0.0</td>\n",
       "      <td>9.0</td>\n",
       "      <td>3.0</td>\n",
       "    </tr>\n",
       "    <tr>\n",
       "      <th>2</th>\n",
       "      <td>dinnebi01</td>\n",
       "      <td>1903</td>\n",
       "      <td>BOS</td>\n",
       "      <td>AL</td>\n",
       "      <td>WS</td>\n",
       "      <td>P</td>\n",
       "      <td>4</td>\n",
       "      <td>4</td>\n",
       "      <td>105.0</td>\n",
       "      <td>2</td>\n",
       "      <td>9</td>\n",
       "      <td>0</td>\n",
       "      <td>0</td>\n",
       "      <td>0</td>\n",
       "      <td>NaN</td>\n",
       "      <td>6.0</td>\n",
       "      <td>1.0</td>\n",
       "    </tr>\n",
       "    <tr>\n",
       "      <th>3</th>\n",
       "      <td>doughpa01</td>\n",
       "      <td>1903</td>\n",
       "      <td>BOS</td>\n",
       "      <td>AL</td>\n",
       "      <td>WS</td>\n",
       "      <td>LF</td>\n",
       "      <td>8</td>\n",
       "      <td>8</td>\n",
       "      <td>213.0</td>\n",
       "      <td>13</td>\n",
       "      <td>3</td>\n",
       "      <td>1</td>\n",
       "      <td>1</td>\n",
       "      <td>0</td>\n",
       "      <td>NaN</td>\n",
       "      <td>NaN</td>\n",
       "      <td>NaN</td>\n",
       "    </tr>\n",
       "    <tr>\n",
       "      <th>4</th>\n",
       "      <td>ferriho01</td>\n",
       "      <td>1903</td>\n",
       "      <td>BOS</td>\n",
       "      <td>AL</td>\n",
       "      <td>WS</td>\n",
       "      <td>2B</td>\n",
       "      <td>8</td>\n",
       "      <td>8</td>\n",
       "      <td>213.0</td>\n",
       "      <td>18</td>\n",
       "      <td>23</td>\n",
       "      <td>2</td>\n",
       "      <td>2</td>\n",
       "      <td>0</td>\n",
       "      <td>NaN</td>\n",
       "      <td>NaN</td>\n",
       "      <td>NaN</td>\n",
       "    </tr>\n",
       "  </tbody>\n",
       "</table>\n",
       "</div>"
      ],
      "text/plain": [
       "    playerID  yearID teamID lgID round POS  G  GS  InnOuts  PO   A  E  DP  TP  \\\n",
       "0  colliji01    1903    BOS   AL    WS  3B  8   8    213.0   9  18  1   1   0   \n",
       "1  crigelo01    1903    BOS   AL    WS   C  8   8    213.0  54   7  3   2   0   \n",
       "2  dinnebi01    1903    BOS   AL    WS   P  4   4    105.0   2   9  0   0   0   \n",
       "3  doughpa01    1903    BOS   AL    WS  LF  8   8    213.0  13   3  1   1   0   \n",
       "4  ferriho01    1903    BOS   AL    WS  2B  8   8    213.0  18  23  2   2   0   \n",
       "\n",
       "    PB   SB   CS  \n",
       "0  NaN  NaN  NaN  \n",
       "1  0.0  9.0  3.0  \n",
       "2  NaN  6.0  1.0  \n",
       "3  NaN  NaN  NaN  \n",
       "4  NaN  NaN  NaN  "
      ]
     },
     "execution_count": 7,
     "metadata": {},
     "output_type": "execute_result"
    }
   ],
   "source": [
    "import pandas as pd\n",
    "import numpy as np\n",
    "# from scipy.stats import \n",
    "import matplotlib.pyplot as plt\n",
    "from sklearn import linear_model\n",
    "\n",
    "PLAYER_SALARY = './baseball_data/Salaries.csv'\n",
    "BATTING_STUFF = './baseball_data/Batting.csv'\n",
    "POST_FIELD = './baseball_data/FieldingPost.csv'\n",
    "batting = pd.read_csv(BATTING_STUFF, sep=',')\n",
    "salary = pd.read_csv(PLAYER_SALARY, sep=',')\n",
    "field = pd.read_csv(POST_FIELD, sep=',')\n",
    "salary_list = np.array(salary['salary'])\n",
    "home_runs_list = np.array(batting['HR'])\n",
    "year_list = np.array(salary['yearID'])\n",
    "rbi_list = np.array(batting['RBI'])\n",
    "error_list = np.array(field['E'])\n",
    "field_list = np.array(field['InnOuts'])\n",
    "field.head(5)"
   ]
  },
  {
   "cell_type": "markdown",
   "metadata": {},
   "source": [
    "### now we need combine the salary and homeruns by player ID, and plot the data. Then we run a linear regression on our data plot and display the univariate regession line. (doesn't appear to be a line because of the log)"
   ]
  },
  {
   "cell_type": "code",
   "execution_count": 8,
   "metadata": {
    "collapsed": false,
    "scrolled": true
   },
   "outputs": [
    {
     "data": {
      "image/png": "[encoded data removed]",
      "text/plain": [
       "<matplotlib.figure.Figure at 0x1197b5ba8>"
      ]
     },
     "metadata": {},
     "output_type": "display_data"
    },
    {
     "data": {
      "text/plain": [
       "HR        2167\n",
       "salary    2167\n",
       "dtype: int64"
      ]
     },
     "execution_count": 8,
     "metadata": {},
     "output_type": "execute_result"
    }
   ],
   "source": [
    "%matplotlib inline\n",
    "salary.head(1), batting.head(1)\n",
    "\n",
    "total_salaries = salary.groupby([\"playerID\"])[\"salary\"].sum()\n",
    "total_hrs = batting.groupby([\"playerID\"])[\"HR\"].sum()\n",
    "\n",
    "all_stats = pd.concat((total_hrs, total_salaries), axis=1)\n",
    "all_stats.dropna(inplace = True)\n",
    "\n",
    "plt.figure(figsize=(12, 4))\n",
    "plt.scatter(all_stats.HR, all_stats.salary, edgecolor=\"None\",\n",
    "            s=5, c='k', alpha=0.2)\n",
    "plt.yscale(\"log\")\n",
    "plt.xlabel(\"Home Runs\", fontsize=12); plt.ylabel(\"Salary\", fontsize=12)\n",
    "plt.minorticks_on()\n",
    "plt.xlim(-50)\n",
    "\n",
    "xvals = np.array(all_stats.HR)[:, np.newaxis]\n",
    "yvals = np.array(all_stats.salary)\n",
    "regressor = linear_model.LinearRegression()\n",
    "regressor.fit(xvals, yvals)\n",
    "plt.scatter(xvals, regressor.predict(xvals), s= .5, color = 'orange')\n",
    "\n",
    "plt.show()\n",
    "all_stats[all_stats.HR == 0].count()"
   ]
  },
  {
   "cell_type": "markdown",
   "metadata": {},
   "source": [
    "### We then get the slope and intercept using Kfold. Helps account for any cross-validation."
   ]
  },
  {
   "cell_type": "code",
   "execution_count": 9,
   "metadata": {
    "collapsed": false
   },
   "outputs": [
    {
     "name": "stdout",
     "output_type": "stream",
     "text": [
      "Our model is:\n",
      "\tSalary = 170662.04913058484 x N_HRs + 4510061.742907574\n"
     ]
    }
   ],
   "source": [
    "from sklearn import cross_validation as cv\n",
    "output = cv.KFold(len(all_stats), 10)\n",
    "\n",
    "slopes, intercepts = [], []\n",
    "\n",
    "for train_index, test_index in output:\n",
    "    x_train, x_test = xvals[train_index], xvals[test_index]\n",
    "    y_train, y_test = yvals[train_index], yvals[test_index]\n",
    "    regressor.fit(x_train, y_train)\n",
    "    slopes.append(regressor.coef_)\n",
    "    intercepts.append(regressor.intercept_)\n",
    "    \n",
    "slope = np.mean(slopes)\n",
    "intercept = np.mean(intercepts)\n",
    "\n",
    "# regressor.coef_ = slope\n",
    "# regressor.incept_ = intercept\n",
    "\n",
    "print(\"Our model is:\\n\\tSalary = {} x N_HRs + {}\".format(slope, intercept))"
   ]
  },
  {
   "cell_type": "markdown",
   "metadata": {},
   "source": [
    "### This for loop divides our data into 10 sub-sections and performs a linear regression on each.  It then returns the average of the slopes of the regressions as well as the average of the intercepts.  These averages will be the m and y-intercept of our model, which we have now generalized by sampling 10 sub-groups."
   ]
  },
  {
   "cell_type": "markdown",
   "metadata": {
    "collapsed": true
   },
   "source": [
    "## Starting Multivariant Linear Regression"
   ]
  },
  {
   "cell_type": "code",
   "execution_count": 15,
   "metadata": {
    "collapsed": false
   },
   "outputs": [
    {
     "name": "stdout",
     "output_type": "stream",
     "text": [
      "              HR       salary  InnOuts     RBI   yearID\n",
      "aasedo01     0.0    2300000.0     15.0     0.0   7950.0\n",
      "abadfe01     0.0    1428900.0      1.0     0.0   6037.0\n",
      "abbotje01   18.0     985000.0      9.0    83.0   7998.0\n",
      "abbotku01   62.0    4237000.0    176.0   242.0  17973.0\n",
      "abbotpa01    0.0    6471000.0     56.0     2.0  13988.0\n",
      "abreubo01  288.0  124379666.0    465.0  1363.0  32072.0\n",
      "aceveal01    0.0    4285650.0     13.0     0.0   6035.0\n",
      "ackerji01    0.0    2985500.0     39.0     1.0  13917.0\n",
      "adamsma01   34.0    1006000.0    663.0   132.0   4027.0\n",
      "affelje01    0.0   36063000.0     94.0     2.0  26104.0\n",
      "agbaybe01   39.0    1280000.0    472.0   156.0   8002.0\n",
      "agostju01    0.0    4698334.0      1.0     0.0  13922.0\n",
      "aguilri01    3.0   32587999.0     72.0    11.0  29895.0\n",
      "albural01    0.0    1832500.0     24.0     0.0   6039.0\n",
      "aldremi01   41.0    2615000.0     57.0   271.0  19909.0\n",
      "alexado01    0.0    3725000.0     87.0    17.0   9935.0\n",
      "alexama02   15.0    2255500.0     28.0   115.0  15970.0\n",
      "alfonan01    0.0   15735000.0     43.0     2.0  22022.0\n",
      "alfoned01  146.0   47229000.0    791.0   744.0  24006.0\n",
      "alicelu01   47.0    6935000.0    227.0   422.0  19975.0\n",
      "allenco01    0.0    1008000.0      1.0     0.0   4027.0\n",
      "alomaro01  210.0   76603815.0   1533.0  1134.0  31944.0\n",
      "alomasa02  112.0   28450000.0   1259.0   588.0  33966.0\n",
      "aloumo01   332.0   85983474.0    882.0  1287.0  35990.0\n",
      "alvarpe01  104.0    9200000.0    156.0   324.0   8050.0\n",
      "alvarwi01    0.0   48932500.0     55.0     1.0  27967.0\n",
      "amarari01   11.0    3170000.0     18.0   159.0  15972.0\n",
      "amaroru02   16.0    1246000.0      6.0   100.0  13965.0\n",
      "amezaal01   12.0    3285000.0     26.0   110.0  10035.0\n",
      "anderbr01  210.0   42291438.0    534.0   761.0  27936.0\n",
      "...          ...          ...      ...     ...      ...\n",
      "wrighwe01    0.0    3777000.0      2.0     0.0  10056.0\n",
      "wronari01    3.0     168000.0     36.0    18.0   3979.0\n",
      "wuertmi01    0.0    8352000.0      5.0     0.0  16060.0\n",
      "wunscke01    0.0    2670000.0      3.0     0.0  12015.0\n",
      "wynnema01   40.0    1575000.0     30.0   244.0   9940.0\n",
      "yanes01      1.0    7235000.0      6.0     1.0  18018.0\n",
      "yeagest01  102.0     912809.0    851.0   410.0   3971.0\n",
      "yoshima01    1.0    6375000.0     39.0    13.0   7999.0\n",
      "youklke01  150.0   56227225.0    734.0   618.0  18081.0\n",
      "youngch03    1.0   17475000.0     20.0    14.0  16070.0\n",
      "youngch04  155.0   34536000.0    189.0   486.0  16084.0\n",
      "youngcu01    0.0    3408375.0     10.0     0.0  15916.0\n",
      "youngde03  107.0   19407000.0    216.0   550.0  14070.0\n",
      "youngdm01  171.0   52804000.0     33.0   683.0  28035.0\n",
      "younger01   79.0   29452500.0    117.0   543.0  27993.0\n",
      "youngma01    0.0    6259334.0      1.0     0.0  13920.0\n",
      "youngmi02  185.0   93469397.0    471.0  1030.0  24090.0\n",
      "yountro01  251.0   17700000.0    441.0  1406.0  17901.0\n",
      "zahnge01     0.0     550000.0     11.0     1.0   1985.0\n",
      "zambrca01   24.0  114950000.0     87.0    71.0  20075.0\n",
      "zaungr01    88.0   17809000.0      9.0   446.0  30036.0\n",
      "zeileto01  253.0   40767999.0    782.0  1110.0  31944.0\n",
      "zerbech01    0.0     317000.0     18.0     2.0   2003.0\n",
      "zimmeje02    0.0   10757501.0      3.0     0.0  12009.0\n",
      "zimmejo02    1.0   15565000.0     38.0    12.0   8050.0\n",
      "zimmery01  184.0   59592000.0    132.0   710.0  16083.0\n",
      "ziskri01   207.0     817500.0    129.0   792.0   5958.0\n",
      "zitoba01     0.0  137035000.0    181.0    11.0  26091.0\n",
      "zobribe01  114.0   23695100.0    339.0   511.0  16084.0\n",
      "zumayjo01    0.0    4207000.0     18.0     0.0  12051.0\n",
      "\n",
      "[2046 rows x 5 columns]\n"
     ]
    }
   ],
   "source": [
    "total_post_field = field.groupby([\"playerID\"])[\"InnOuts\"].sum()\n",
    "total_rbi = batting.groupby([\"playerID\"])[\"RBI\"].sum()\n",
    "total_year = salary.groupby([\"playerID\"])[\"yearID\"].sum()\n",
    "all_stats = pd.concat((total_hrs, total_salaries, total_post_field, total_rbi, total_year), axis=1)\n",
    "all_stats.dropna(inplace=True)\n",
    "print(all_stats)"
   ]
  },
  {
   "cell_type": "code",
   "execution_count": 16,
   "metadata": {
    "collapsed": false
   },
   "outputs": [
    {
     "name": "stdout",
     "output_type": "stream",
     "text": [
      "Score: 0.5677271185996844\n"
     ]
    }
   ],
   "source": [
    "kfolds = cv.KFold(len(all_stats), 10)\n",
    "regressor = linear_model.LinearRegression()\n",
    "valid_data = ['HR', 'InnOuts', 'RBI', 'yearID']\n",
    "xvals = np.array(all_stats[valid_data])\n",
    "yvals = np.array(all_stats.salary)\n",
    "\n",
    "coeffs, intercepts = [], []\n",
    "\n",
    "for train_index, test_index in kfolds:\n",
    "    x_train, x_test = xvals[train_index], xvals[test_index]\n",
    "    y_train, y_test = yvals[train_index], yvals[test_index]\n",
    "    regressor.fit(x_train, y_train)\n",
    "    coeffs.append(regressor.coef_)\n",
    "    intercepts.append(regressor.intercept_)\n",
    "    \n",
    "coeffs = np.array(coeffs).mean(axis=0) #averages each column\n",
    "intercept = np.array(intercepts).mean(axis=0)    \n",
    "    \n",
    "regressor.coef_ = coeffs\n",
    "regressor.intercept_ = intercept\n",
    "\n",
    "print(\"Score: {0}\".format(regressor.score(xvals, yvals)))"
   ]
  },
  {
   "cell_type": "markdown",
   "metadata": {
    "collapsed": true
   },
   "source": [
    "### Conclusions: By incorporating additional data, we run a multivariate linear regression and account for cross validation by running InnOuts, RBI, yearID; we yield an R^2 of 0.56. The yearID was a major factor in the changes in salary a player received. "
   ]
  }
 ],
 "metadata": {
  "kernelspec": {
   "display_name": "Python 3",
   "language": "python",
   "name": "python3"
  },
  "language_info": {
   "codemirror_mode": {
    "name": "ipython",
    "version": 3
   },
   "file_extension": ".py",
   "mimetype": "text/x-python",
   "name": "python",
   "nbconvert_exporter": "python",
   "pygments_lexer": "ipython3",
   "version": "3.5.1"
  }
 },
 "nbformat": 4,
 "nbformat_minor": 0
}
